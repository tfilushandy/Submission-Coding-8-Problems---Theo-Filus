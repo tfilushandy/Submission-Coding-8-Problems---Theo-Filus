{
  "nbformat": 4,
  "nbformat_minor": 0,
  "metadata": {
    "colab": {
      "provenance": []
    },
    "kernelspec": {
      "name": "python3",
      "display_name": "Python 3"
    },
    "language_info": {
      "name": "python"
    }
  },
  "cells": [
    {
      "cell_type": "markdown",
      "source": [
        "# **PROGRAM  FAKTORIAL**"
      ],
      "metadata": {
        "id": "0PlWEomELxG6"
      }
    },
    {
      "cell_type": "code",
      "execution_count": null,
      "metadata": {
        "colab": {
          "base_uri": "https://localhost:8080/"
        },
        "id": "iYFGmJVSIth8",
        "outputId": "0591606f-f405-44ae-e4db-e9e9ec7f7c67"
      },
      "outputs": [
        {
          "output_type": "stream",
          "name": "stdout",
          "text": [
            "Enter a number: 36\n",
            "The factorial of 36 is 371993326789901217467999448150835200000000\n"
          ]
        }
      ],
      "source": [
        "def factorial(n):\n",
        "    \"\"\"\n",
        "    Calculate the factorial of a number using recursion.\n",
        "\n",
        "    Args:\n",
        "        n (int): The number to calculate the factorial of.\n",
        "\n",
        "    Returns:\n",
        "        int: The factorial of the input number.\n",
        "    \"\"\"\n",
        "    if n == 0:\n",
        "        return 1\n",
        "    else:\n",
        "        return n * factorial(n-1)\n",
        "\n",
        "# Get user input\n",
        "num = int(input(\"Enter a number: \"))\n",
        "\n",
        "# Call the factorial function\n",
        "result = factorial(num)\n",
        "\n",
        "# Print the result\n",
        "print(f\"The factorial of {num} is {result}\")"
      ]
    },
    {
      "cell_type": "markdown",
      "source": [
        "# **PROGRAM FIBONACI**"
      ],
      "metadata": {
        "id": "zC37TyXWCyUq"
      }
    },
    {
      "cell_type": "code",
      "source": [
        "def fibonacci(n):\n",
        "    \"\"\"\n",
        "    Calculate the nth Fibonacci number using recursion.\n",
        "\n",
        "    Args:\n",
        "        n (int): The position of the Fibonacci number to calculate.\n",
        "\n",
        "    Returns:\n",
        "        int: The nth Fibonacci number.\n",
        "    \"\"\"\n",
        "    if n <= 0:\n",
        "        return \"Input should be a positive integer\"\n",
        "    elif n == 1:\n",
        "        return 0\n",
        "    elif n == 2:\n",
        "        return 1\n",
        "    else:\n",
        "        return fibonacci(n-1) + fibonacci(n-2)\n",
        "\n",
        "# Get user input\n",
        "num = int(input(\"Enter the position of the Fibonacci number: \"))\n",
        "\n",
        "# Call the fibonacci function\n",
        "result = fibonacci(num)\n",
        "\n",
        "# Print the result\n",
        "print(f\"The {num}th Fibonacci number is {result}\")"
      ],
      "metadata": {
        "colab": {
          "base_uri": "https://localhost:8080/"
        },
        "id": "vd1KJyn0M-yO",
        "outputId": "df84ab95-560b-44a7-a552-f51b8860e767"
      },
      "execution_count": null,
      "outputs": [
        {
          "output_type": "stream",
          "name": "stdout",
          "text": [
            "Enter the position of the Fibonacci number: 3\n",
            "The 3th Fibonacci number is 1\n"
          ]
        }
      ]
    },
    {
      "cell_type": "markdown",
      "source": [
        "# **Menghitung pangkat dari suatu bilangan dengan meminta input dari user**"
      ],
      "metadata": {
        "id": "weCPBrxZQONw"
      }
    },
    {
      "cell_type": "code",
      "source": [
        "def pangkat(basis, eksponen):\n",
        "    # Basis kasus\n",
        "    if eksponen == 0:\n",
        "        return 1\n",
        "    # Rekursi\n",
        "    else:\n",
        "        return basis * pangkat(basis, eksponen - 1)\n",
        "\n",
        "# Meminta input dari user\n",
        "basis = int(input(\"Masukkan bilangan basis: \"))\n",
        "eksponen = int(input(\"Masukkan bilangan eksponen: \"))\n",
        "\n",
        "# Memanggil fungsi rekursif dan menampilkan hasilnya\n",
        "hasil = pangkat(basis, eksponen)\n",
        "print(f\"Hasil dari {basis}^{eksponen} adalah: {hasil}\")\n"
      ],
      "metadata": {
        "id": "VLIpVm9APFZc"
      },
      "execution_count": null,
      "outputs": []
    },
    {
      "cell_type": "code",
      "source": [],
      "metadata": {
        "id": "sy989Z-sQx8f"
      },
      "execution_count": null,
      "outputs": []
    },
    {
      "cell_type": "markdown",
      "source": [
        "# **Menghitung durasi perjalanan**"
      ],
      "metadata": {
        "id": "Kkc0EftnC2rc"
      }
    },
    {
      "cell_type": "code",
      "source": [
        "def hitung_durasi(panjang_rute, kecepatan):\n",
        "    # Basis kasus: jika panjang rute sudah nol\n",
        "    if panjang_rute <= 0:\n",
        "        return 0\n",
        "    # Rekursi: bagi panjang rute dengan kecepatan, lalu kurangi jarak\n",
        "    else:\n",
        "        return 1 + hitung_durasi(panjang_rute - kecepatan, kecepatan)\n",
        "\n",
        "# Meminta input dari pengguna\n",
        "panjang_rute = float(input(\"Masukkan panjang rute (dalam kilometer): \"))\n",
        "kecepatan = float(input(\"Masukkan kecepatan rata-rata (dalam km/jam): \"))\n",
        "\n",
        "# Memanggil fungsi rekursif dan menampilkan hasilnya\n",
        "durasi = hitung_durasi(panjang_rute, kecepatan)\n",
        "print(f\"Durasi perjalanan adalah: {durasi} jam\")\n"
      ],
      "metadata": {
        "colab": {
          "base_uri": "https://localhost:8080/"
        },
        "id": "9YGTSLd_Qp30",
        "outputId": "05f395fd-468f-4089-95c8-0f8787b09f9f"
      },
      "execution_count": null,
      "outputs": [
        {
          "output_type": "stream",
          "name": "stdout",
          "text": [
            "Masukkan panjang rute (dalam kilometer): 100\n",
            "Masukkan kecepatan rata-rata (dalam km/jam): 20\n",
            "Durasi perjalanan adalah: 5 jam\n"
          ]
        }
      ]
    },
    {
      "cell_type": "markdown",
      "source": [
        "# **Menghitung Panjang Index Bilangan**"
      ],
      "metadata": {
        "id": "BUT7aQbODCN0"
      }
    },
    {
      "cell_type": "code",
      "source": [
        "def hitung_jumlah_digit(angka):\n",
        "    # Basis kasus: jika angka sudah kurang dari 10 (satu digit)\n",
        "    if angka < 10:\n",
        "        return 1\n",
        "    # Rekursi: pecah angka, panggil rekursi untuk sisa bagi 10\n",
        "    else:\n",
        "        return 1 + hitung_jumlah_digit(angka // 10)\n",
        "\n",
        "# Meminta input dari pengguna\n",
        "angka = int(input(\"Masukkan sebuah angka: \"))\n",
        "\n",
        "# Memanggil fungsi rekursif dan menampilkan hasilnya\n",
        "jumlah_digit = hitung_jumlah_digit(angka)\n",
        "print(f\"Jumlah digit dari angka {angka} adalah: {jumlah_digit}\")\n"
      ],
      "metadata": {
        "colab": {
          "base_uri": "https://localhost:8080/"
        },
        "id": "5nM2EGb-Vu0c",
        "outputId": "bdf25271-eb5a-4af0-a174-1f94ca39270b"
      },
      "execution_count": null,
      "outputs": [
        {
          "output_type": "stream",
          "name": "stdout",
          "text": [
            "Masukkan sebuah angka: 238923\n",
            "Jumlah digit dari angka 238923 adalah: 6\n"
          ]
        }
      ]
    },
    {
      "cell_type": "markdown",
      "source": [
        "# **ENTHROPHY**"
      ],
      "metadata": {
        "id": "C35oai--FADm"
      }
    },
    {
      "cell_type": "code",
      "source": [
        "import math\n",
        "def entropy(n, y):\n",
        "  return -((n/(n+y))*math.log2(n/(n+y))+(y/(n+y))*math.log2(y/(n+y)))\n",
        "\n",
        "n = int(input(\"masukan angka: \"))\n",
        "y = int(input(\"masukan angka: \"))\n",
        "h=entropy(n,y)\n",
        "print(h)"
      ],
      "metadata": {
        "colab": {
          "base_uri": "https://localhost:8080/"
        },
        "id": "y8bu_yeODfxL",
        "outputId": "a97ef53b-58dc-4343-c9cb-94294244cc3b"
      },
      "execution_count": 2,
      "outputs": [
        {
          "output_type": "stream",
          "name": "stdout",
          "text": [
            "masukan angka: 22\n",
            "masukan angka: 5\n",
            "0.691289869405789\n"
          ]
        }
      ]
    },
    {
      "cell_type": "markdown",
      "source": [
        "# **KOEFISIEN GINI**"
      ],
      "metadata": {
        "id": "rwxNytI0GHCo"
      }
    },
    {
      "cell_type": "code",
      "source": [
        "def gini(n, y):\n",
        "    return 1 - 2 * (n / (n + y)) - 2 * (y / (n + y))\n",
        "\n",
        "def get_input():\n",
        "    try:\n",
        "        n = int(input(\"Masukkan angka pertama: \"))\n",
        "        y = int(input(\"Masukkan angka kedua: \"))\n",
        "        return n, y\n",
        "    except ValueError:\n",
        "        print(\"Input harus berupa angka. Silakan coba lagi.\")\n",
        "        return get_input()\n",
        "\n",
        "def main():\n",
        "    n, y = get_input()\n",
        "    hasil = gini(n, y)\n",
        "    print(f\"Hasil indeks Gini adalah: {hasil}\")\n",
        "\n",
        "if __name__ == \"__main__\":\n",
        "    main()\n"
      ],
      "metadata": {
        "colab": {
          "base_uri": "https://localhost:8080/"
        },
        "id": "yv4MhpFXFJk8",
        "outputId": "c0684d36-8f1e-4ba8-c917-ddd545affe86"
      },
      "execution_count": 1,
      "outputs": [
        {
          "output_type": "stream",
          "name": "stdout",
          "text": [
            "Masukkan angka pertama: 23\n",
            "Masukkan angka kedua: 22\n",
            "Hasil indeks Gini adalah: -0.9999999999999999\n"
          ]
        }
      ]
    },
    {
      "cell_type": "markdown",
      "source": [
        "# **Classification ERROR**"
      ],
      "metadata": {
        "id": "42WMge_MpW6p"
      }
    },
    {
      "cell_type": "code",
      "source": [
        "def claserror(n, y):\n",
        "  if n >= y:\n",
        "    return 1-(n/(n+y))\n",
        "  else:\n",
        "    return 1-(y/(n+y))\n",
        "\n",
        "\n",
        "n = int(input(\"masukan angka: \"))\n",
        "y = int(input(\"masukan angka: \"))\n",
        "h=claserror(n,y)\n",
        "print(h)"
      ],
      "metadata": {
        "colab": {
          "base_uri": "https://localhost:8080/"
        },
        "id": "EY6LaycdpNtp",
        "outputId": "e6045c47-e2bd-4ac8-fc84-5de37b7bb401"
      },
      "execution_count": 3,
      "outputs": [
        {
          "output_type": "stream",
          "name": "stdout",
          "text": [
            "masukan angka: 77\n",
            "masukan angka: 3\n",
            "0.03749999999999998\n"
          ]
        }
      ]
    }
  ]
}
